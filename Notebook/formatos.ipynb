{
 "cells": [
  {
   "cell_type": "markdown",
   "metadata": {},
   "source": [
    "# Notebook con script para Generar formato para Docentes a partir de la Nomina"
   ]
  },
  {
   "cell_type": "markdown",
   "metadata": {},
   "source": [
    "### 1. Condiciones iniciales para trabajar con pandas."
   ]
  },
  {
   "cell_type": "code",
   "execution_count": 1,
   "metadata": {},
   "outputs": [],
   "source": [
    "import pandas as pd\n",
    "\n",
    "pd.set_option('display.max_columns', 3000)\n",
    "pd.set_option('display.max_rows', 3000)"
   ]
  },
  {
   "cell_type": "markdown",
   "metadata": {},
   "source": [
    "### 2. Carpeta donde esta ubicado la informacion."
   ]
  },
  {
   "cell_type": "code",
   "execution_count": 2,
   "metadata": {},
   "outputs": [
    {
     "name": "stdout",
     "output_type": "stream",
     "text": [
      "/home/jamartinez/anaconda3/envs/david-3.1/Senifa/Notebook\n"
     ]
    }
   ],
   "source": [
    "cd ~/notebook/David/"
   ]
  },
  {
   "cell_type": "markdown",
   "metadata": {},
   "source": [
    "### 3. Funcion para Ubicar los archivos de cada quincena para un mes en particular."
   ]
  },
  {
   "cell_type": "code",
   "execution_count": 3,
   "metadata": {},
   "outputs": [],
   "source": [
    "def Quincenas(carp1, arch1, arch2):\n",
    "    df1 = pd.read_csv(f'{carp1}{arch1}.csv', sep=';',\n",
    "                      usecols=['CEDULA','APELLIDO Y NOMBRE', 'Unnamed: 2', 'CARGO', \n",
    "                               'UBICACIÓN GEOGRAFICA', 'AÑO', 'MES', 'DIA', 'NETO A PAGAR'])\n",
    "    df2 = pd.read_csv(f'{carp1}{arch2}.csv', sep=';',\n",
    "                      usecols=['CEDULA','APELLIDO Y NOMBRE', 'Unnamed: 2', 'CARGO', 'NETO A PAGAR'])\n",
    "    return df1, df2"
   ]
  },
  {
   "cell_type": "markdown",
   "metadata": {},
   "source": [
    "### 4. Funcion para Renombrar y Seleccionar las Columnas de la tabla.\n",
    "Partimos de la primera quincena para generar la mayoria de la información necesaria."
   ]
  },
  {
   "cell_type": "code",
   "execution_count": 4,
   "metadata": {},
   "outputs": [],
   "source": [
    "def Renom_Selecc1(df1):\n",
    "    df1.rename(columns={\"CEDULA\":\"Cedula\", \"APELLIDO Y NOMBRE\":\"Apellido\", \"Unnamed: 2\":\"Nombre\", \n",
    "                       \"CARGO\":\"Cargo\", \"UBICACIÓN GEOGRAFICA\":\"Ubicación\", \"AÑO\":\"Año\", \"MES\":\"Mes\", \n",
    "                       \"DIA\":\"Dia\", \"NETO A PAGAR\":\"1era Quincena\",}, inplace=True)\n",
    "    df1 = df1.loc[:, ['Cedula', 'Apellido', 'Nombre', 'Cargo', 'Ubicación', \n",
    "                      'Año', 'Mes', 'Dia', '1era Quincena']]        \n",
    "    return df1"
   ]
  },
  {
   "cell_type": "markdown",
   "metadata": {},
   "source": [
    "### 5. Funcion para Reorganizar la fecha en la tabla."
   ]
  },
  {
   "cell_type": "code",
   "execution_count": 5,
   "metadata": {},
   "outputs": [],
   "source": [
    "def Organiz_Fechas(df1):\n",
    "    dfA = df1.loc[:, ['Año', 'Mes', 'Dia']]\n",
    "    dfA['Año'] = dfA['Año'].astype('string')\n",
    "    dfA['Mes'] = dfA['Mes'].astype('string')\n",
    "    dfA['Dia'] = dfA['Dia'].astype('string')\n",
    "    df1['Fecha de Ingreso'] = dfA['Año'] + '-' + dfA['Mes'] + '-' + dfA['Dia']\n",
    "    df1['Fecha de Ingreso'] = pd.to_datetime(df1['Fecha de Ingreso'], format='%Y/%m/%d')\n",
    "    del dfA\n",
    "    df1 = df1.loc[:, ['Cedula', 'Apellido', 'Nombre', 'Cargo', 'Ubicación', \n",
    "                      'Fecha de Ingreso', '1era Quincena']]\n",
    "    df1['1era Quincena'] = df1['1era Quincena'].str.replace(',', '.').astype(float)\n",
    "    return df1"
   ]
  },
  {
   "cell_type": "markdown",
   "metadata": {},
   "source": [
    "### 6. Funcion para Renombrar y Seleccionar las columnas de la segunda quincena."
   ]
  },
  {
   "cell_type": "code",
   "execution_count": 6,
   "metadata": {},
   "outputs": [],
   "source": [
    "def Renom_Selecc2(df2):\n",
    "    df2.rename(columns={\"CEDULA\":\"Cedula\", \"APELLIDO Y NOMBRE\":\"Apellido\", \"Unnamed: 2\":\"Nombre\", \n",
    "                       \"CARGO\":\"Cargo\", \"UBICACIÓN GEOGRAFICA\":\"Ubicación\", \"AÑO\":\"Año\", \"MES\":\"Mes\", \n",
    "                       \"DIA\":\"Dia\", \"NETO A PAGAR\":\"2da Quincena\",}, inplace=True)\n",
    "    df2 = df2.loc[:, ['Cedula', 'Apellido', 'Nombre', 'Cargo', '2da Quincena']]\n",
    "    df2['2da Quincena'] = df2['2da Quincena'].str.replace(',', '.').astype(float)\n",
    "    return df2"
   ]
  },
  {
   "cell_type": "markdown",
   "metadata": {},
   "source": [
    "### 7. Funcion para Comprobar transcripcion de datos previo union de ambas tablas."
   ]
  },
  {
   "cell_type": "code",
   "execution_count": 7,
   "metadata": {},
   "outputs": [],
   "source": [
    "def Comp_transcrip(df1, df2):\n",
    "    diff_cedula = df1['Cedula'].equals(df2['Cedula'])\n",
    "    diff_Apellido = df1['Apellido'].equals(df2['Apellido'])\n",
    "    diff_Nombre = df1['Nombre'].equals(df2['Nombre'])\n",
    "    diff_Cargo = df1['Cargo'].equals(df2['Cargo'])\n",
    "    diferencia = {'diff_cedula':diff_cedula, 'diff_Apellido':diff_Apellido, \n",
    "              'diff_Nombre':diff_Nombre, 'diff_Cargo':diff_Cargo}\n",
    "    for i in range(0,len(diferencia)):\n",
    "        if list(diferencia.values())[i] == True:\n",
    "            print(f'Sin problemas en la Columna {df1.columns[i]}')\n",
    "        else:\n",
    "            print(f'Se observaron diferencias en las celdas de la Columna {df1.columns[i]}')"
   ]
  },
  {
   "cell_type": "markdown",
   "metadata": {},
   "source": [
    "### 8. Funcion para Unir tablas y Generar monto total."
   ]
  },
  {
   "cell_type": "code",
   "execution_count": 8,
   "metadata": {},
   "outputs": [],
   "source": [
    "def Monto_total(df1, df2):\n",
    "    df1 = df1.reset_index()\n",
    "    df2 = df2.reset_index()\n",
    "    df1 = df1.loc[:, ['Cedula', 'Apellido', 'Nombre', 'Cargo', 'Ubicación', \n",
    "                      'Fecha de Ingreso', '1era Quincena']]        \n",
    "    df1 = df1.set_index('Cedula')\n",
    "    df2 = df2.loc[:, ['Cedula', '2da Quincena']]\n",
    "    df2 = df2.set_index('Cedula')\n",
    "    df1['2da Quincena'] = df2['2da Quincena']\n",
    "    df1['total'] = df1['1era Quincena'] + df1['2da Quincena']\n",
    "    del df2\n",
    "    return df1"
   ]
  },
  {
   "cell_type": "markdown",
   "metadata": {},
   "source": [
    "### 9. Funcion para separar Madres Comunitarias del resto de la Nomina."
   ]
  },
  {
   "cell_type": "code",
   "execution_count": 9,
   "metadata": {},
   "outputs": [],
   "source": [
    "def Separar_madres(df1):\n",
    "    mask = df1['Cargo'] == 'MADRE COMUNITARIA'\n",
    "    df1 = df1.loc[mask]\n",
    "    df2 = df1.loc[mask==False]\n",
    "    #display(df1.head(), df1.info())\n",
    "    return df1, df2"
   ]
  },
  {
   "cell_type": "code",
   "execution_count": 10,
   "metadata": {},
   "outputs": [],
   "source": [
    "def Resultados_Docentes(carp1, arch1, arch2, arch3, arch4):\n",
    "    tabla1, tabla2 = Quincenas(carp1, arch1, arch2)\n",
    "    ### Primero creamos las dos tablas con los datos de los archivos con las quincenas.\n",
    "    tabla1 = Renom_Selecc1(tabla1)         ### Renombranos las columnas tabla 1.\n",
    "    tabla1 = Organiz_Fechas(tabla1)        ### Reorganizamos la fecha en la tabla 1.\n",
    "    tabla2 = Renom_Selecc2(tabla2)         ### Renombranos y seleccionamos las columnas tabla 2.\n",
    "    Comp_transcrip(tabla1, tabla2)         ### Comprobacion de transcripcion antes de unir ambas tablas.\n",
    "    tabla = Monto_total(tabla1, tabla2)    ### Generacion de tabla final con la información deseada.\n",
    "    tabla1, tabla2 = Separar_madres(tabla) ### Funcion para separar las madres de la nomina.\n",
    "    tabla1.to_csv(f'{carp1}{arch3}.csv', sep=';')\n",
    "    print(f'Generado archivo {arch3}.csv en la carpeta {carp1}')\n",
    "    tabla2.to_csv(f'{carp1}{arch4}.csv', sep=';')\n",
    "    print(f'Generado archivo {arch4}.csv en la carpeta {carp1}')\n",
    "    del tabla, tabla1, tabla2"
   ]
  },
  {
   "cell_type": "markdown",
   "metadata": {},
   "source": [
    "### 9. Funcion para generacion de archivo con la informacion solicitada."
   ]
  },
  {
   "cell_type": "code",
   "execution_count": 11,
   "metadata": {},
   "outputs": [
    {
     "name": "stdout",
     "output_type": "stream",
     "text": [
      "Sin problemas en la Columna Cedula\n",
      "Sin problemas en la Columna Apellido\n",
      "Sin problemas en la Columna Nombre\n",
      "Sin problemas en la Columna Cargo\n",
      "Generado archivo Resultados Madres.csv en la carpeta Datos/\n",
      "Generado archivo Resultados Docentes.csv en la carpeta Datos/\n"
     ]
    }
   ],
   "source": [
    "carp1 = 'Datos/'\n",
    "arch1 = 'Informacion_RRHH_1era_quincena'\n",
    "arch2 = 'Informacion_RRHH_2da_quincena'\n",
    "arch3 = 'Resultados Madres'\n",
    "arch4 = 'Resultados Docentes'\n",
    "Resultados_Docentes(carp1, arch1, arch2, arch3, arch4)"
   ]
  },
  {
   "cell_type": "code",
   "execution_count": null,
   "metadata": {},
   "outputs": [],
   "source": []
  }
 ],
 "metadata": {
  "kernelspec": {
   "display_name": "Python 3",
   "language": "python",
   "name": "python3"
  },
  "language_info": {
   "codemirror_mode": {
    "name": "ipython",
    "version": 3
   },
   "file_extension": ".py",
   "mimetype": "text/x-python",
   "name": "python",
   "nbconvert_exporter": "python",
   "pygments_lexer": "ipython3",
   "version": "3.9.1"
  }
 },
 "nbformat": 4,
 "nbformat_minor": 4
}
